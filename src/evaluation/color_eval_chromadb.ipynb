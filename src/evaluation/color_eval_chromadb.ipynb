{
 "cells": [
  {
   "cell_type": "raw",
   "metadata": {
    "vscode": {
     "languageId": "raw"
    }
   },
   "source": [
    "# RGB Histogram Evaluation với ChromaDB\n",
    "\n",
    "Notebook này tách riêng quá trình indexing và evaluation để kiểm soát tốt hơn:\n",
    "1. **Setup**: Import libraries và cấu hình\n",
    "2. **Indexing**: Extract features và lưu vào ChromaDB\n",
    "3. **Evaluation**: Chạy evaluation trên data đã có\n",
    "\n",
    "## Dataset Split: 80% Training / 20% Testing\n",
    "- Training: 23,824 samples (80%)\n",
    "- Testing: 5,956 samples (20%)\n",
    "- Total: 29,780 samples\n"
   ]
  },
  {
   "cell_type": "raw",
   "metadata": {
    "vscode": {
     "languageId": "raw"
    }
   },
   "source": [
    "## 1. Setup và Cấu hình\n"
   ]
  },
  {
   "cell_type": "code",
   "execution_count": 3,
   "metadata": {
    "ExecuteTime": {
     "end_time": "2025-07-12T08:23:18.114365Z",
     "start_time": "2025-07-12T08:23:13.115912Z"
    }
   },
   "outputs": [
    {
     "name": "stdout",
     "output_type": "stream",
     "text": [
      "✅ Imports hoàn tất!\n"
     ]
    }
   ],
   "source": [
    "import os\n",
    "import numpy as np\n",
    "import pandas as pd\n",
    "from time import time\n",
    "from tqdm import tqdm\n",
    "import json\n",
    "import chromadb\n",
    "from chromadb.config import Settings\n",
    "\n",
    "from src.datasets.caltech256 import Caltech256DataModule\n",
    "from src.featuring.rgb_histogram import RGBHistogram\n",
    "from src.metrics import average_precision, recall, hit_rate\n",
    "\n",
    "# Tạo thư mục output\n",
    "os.makedirs('out', exist_ok=True)\n",
    "\n",
    "print(\"✅ Imports hoàn tất!\")\n"
   ]
  },
  {
   "cell_type": "code",
   "execution_count": 6,
   "metadata": {
    "ExecuteTime": {
     "end_time": "2025-07-12T08:24:43.456081Z",
     "start_time": "2025-07-12T08:24:43.435853Z"
    }
   },
   "outputs": [
    {
     "name": "stdout",
     "output_type": "stream",
     "text": [
      "📋 Tổng cấu hình để test: 8\n",
      "📊 Test size: 5956\n",
      "💾 ChromaDB storage: chroma_storage\n",
      "🎯 Evaluation k-values: [1, 5, 10]\n"
     ]
    }
   ],
   "source": [
    "# ======================== CONFIGURATIONS ========================\n",
    "CONFIGS = [\n",
    "    # (n_bin, h_type, metric)\n",
    "    (4, 'global', 'cosine'),\n",
    "    (4, 'global', 'l2'),\n",
    "    (4, 'region', 'cosine'), \n",
    "    (4, 'region', 'l2'),\n",
    "    (8, 'global', 'cosine'),\n",
    "    (8, 'global', 'l2'),\n",
    "    (8, 'region', 'cosine'),\n",
    "    (8, 'region', 'l2'),\n",
    "]\n",
    "\n",
    "# Cấu hình evaluation\n",
    "TEST_SIZE = 5956     # Số lượng test samples để evaluation\n",
    "N_SLICE = 3          # Số slice cho region histogram\n",
    "K_VALUES = [1, 5, 10]  # Top-k cho evaluation\n",
    "\n",
    "# ChromaDB settings\n",
    "CHROMA_DIR = \"chroma_storage\"\n",
    "COLLECTION_PREFIX = \"rgb_hist\"\n",
    "\n",
    "print(f\"📋 Tổng cấu hình để test: {len(CONFIGS)}\")\n",
    "print(f\"📊 Test size: {TEST_SIZE}\")\n",
    "print(f\"💾 ChromaDB storage: {CHROMA_DIR}\")\n",
    "print(f\"🎯 Evaluation k-values: {K_VALUES}\")\n"
   ]
  },
  {
   "cell_type": "code",
   "execution_count": 7,
   "metadata": {
    "ExecuteTime": {
     "end_time": "2025-07-12T08:24:46.412907Z",
     "start_time": "2025-07-12T08:24:45.767786Z"
    }
   },
   "outputs": [
    {
     "name": "stdout",
     "output_type": "stream",
     "text": [
      "📂 Dataset path: D:\\AI\\Food-CBIR\\src\\evaluation\\data\\caltech-256\\256_ObjectCategories\n",
      "📂 Exists: True\n",
      "📂 Found 256 valid categories\n",
      "📊 Loaded 29780 total images from 256 classes\n",
      "📋 Train: 23824 images\n",
      "📂 Found 256 valid categories\n",
      "📊 Loaded 29780 total images from 256 classes\n",
      "📋 Test: 5956 images\n",
      "Train: 23824, Test: 5956\n",
      "✅ Dataset loaded thành công!\n",
      "📊 Training: 23824 samples (80.0%)\n",
      "📊 Testing: 5956 samples (20.0%)\n",
      "📊 Total: 29780 samples\n"
     ]
    }
   ],
   "source": [
    "# Setup dataset\n",
    "dataset_root = os.path.abspath('data/caltech-256/256_ObjectCategories')\n",
    "print(f\"📂 Dataset path: {dataset_root}\")\n",
    "print(f\"📂 Exists: {os.path.exists(dataset_root)}\")\n",
    "\n",
    "if os.path.exists(dataset_root):\n",
    "    data_module = Caltech256DataModule(batch_size=32, root=dataset_root)\n",
    "    data_module.setup()\n",
    "    train_loader = data_module.train_dataloader()\n",
    "    test_loader = data_module.test_dataloader()\n",
    "    \n",
    "    train_size = len(train_loader.dataset)\n",
    "    test_size = len(test_loader.dataset)\n",
    "    total_size = train_size + test_size\n",
    "    \n",
    "    print(f\"✅ Dataset loaded thành công!\")\n",
    "    print(f\"📊 Training: {train_size} samples ({train_size/total_size*100:.1f}%)\")\n",
    "    print(f\"📊 Testing: {test_size} samples ({test_size/total_size*100:.1f}%)\")\n",
    "    print(f\"📊 Total: {total_size} samples\")\n",
    "else:\n",
    "    print(\"❌ Dataset không tìm thấy!\")\n",
    "    print(\"Vui lòng đảm bảo dataset ở đường dẫn đúng.\")\n"
   ]
  },
  {
   "cell_type": "code",
   "metadata": {
    "ExecuteTime": {
     "end_time": "2025-07-12T08:27:21.727978Z",
     "start_time": "2025-07-12T08:27:21.709633Z"
    }
   },
   "source": [
    "# Setup GPU/CPU device\n",
    "import torch\n",
    "\n",
    "device = torch.device(\"cuda\" if torch.cuda.is_available() else \"cpu\")\n",
    "print(f\"🚀 Device: {device}\")\n",
    "\n",
    "if device.type == \"cuda\":\n",
    "    print(f\"📱 GPU: {torch.cuda.get_device_name(0)}\")\n",
    "    print(f\"💾 GPU Memory: {torch.cuda.get_device_properties(0).total_memory / 1024**3:.1f} GB\")\n",
    "    print(f\"🔥 CUDA Version: {torch.version.cuda}\")\n",
    "    # Clear any existing GPU cache\n",
    "    torch.cuda.empty_cache()\n",
    "else:\n",
    "    print(\"💻 Using CPU (GPU not available)\")\n"
   ],
   "outputs": [
    {
     "name": "stdout",
     "output_type": "stream",
     "text": [
      "🚀 Device: cuda\n",
      "📱 GPU: NVIDIA GeForce RTX 4060 Laptop GPU\n",
      "💾 GPU Memory: 8.0 GB\n",
      "🔥 CUDA Version: 12.1\n"
     ]
    }
   ],
   "execution_count": 11
  },
  {
   "cell_type": "code",
   "metadata": {
    "ExecuteTime": {
     "end_time": "2025-07-12T08:27:30.074569Z",
     "start_time": "2025-07-12T08:27:30.047826Z"
    }
   },
   "source": [
    "# Setup ChromaDB\n",
    "os.makedirs(CHROMA_DIR, exist_ok=True)\n",
    "\n",
    "chroma_client = chromadb.PersistentClient(\n",
    "    path=CHROMA_DIR,\n",
    "    settings=Settings(\n",
    "        anonymized_telemetry=False,\n",
    "        allow_reset=True\n",
    "    )\n",
    ")\n",
    "\n",
    "print(f\"✅ ChromaDB initialized tại: {CHROMA_DIR}\")\n",
    "print(f\"📊 Existing collections: {len(chroma_client.list_collections())}\")\n"
   ],
   "outputs": [
    {
     "name": "stdout",
     "output_type": "stream",
     "text": [
      "✅ ChromaDB initialized tại: chroma_storage\n",
      "📊 Existing collections: 1\n"
     ]
    }
   ],
   "execution_count": 12
  },
  {
   "cell_type": "raw",
   "metadata": {
    "vscode": {
     "languageId": "raw"
    }
   },
   "source": [
    "## 2. Indexing - Extract Features và Lưu vào ChromaDB\n",
    "\n",
    "**Bước này sẽ mất thời gian nhưng chỉ cần chạy một lần!**\n",
    "\n",
    "Nó sẽ extract features cho tất cả 23,824 ảnh training và lưu vào ChromaDB để tái sử dụng.\n"
   ]
  },
  {
   "cell_type": "code",
   "metadata": {
    "ExecuteTime": {
     "end_time": "2025-07-12T08:27:36.679847Z",
     "start_time": "2025-07-12T08:27:36.655076Z"
    }
   },
   "source": [
    "def get_collection_name(n_bin, h_type, metric):\n",
    "    \"\"\"Generate collection name for configuration\"\"\"\n",
    "    return f\"{COLLECTION_PREFIX}_{n_bin}bin_{h_type}_{metric}\"\n",
    "\n",
    "def extract_and_store_features(n_bin, h_type, metric, force_reindex=False):\n",
    "    \"\"\"Extract features và store vào ChromaDB\"\"\"\n",
    "    collection_name = get_collection_name(n_bin, h_type, metric)\n",
    "    \n",
    "    # Kiểm tra xem collection đã tồn tại chưa\n",
    "    try:\n",
    "        collection = chroma_client.get_collection(collection_name)\n",
    "        count = collection.count()\n",
    "        if count > 0 and not force_reindex:\n",
    "            print(f\"📂 Sử dụng collection có sẵn: {collection_name} ({count} vectors)\")\n",
    "            return collection, count\n",
    "    except:\n",
    "        pass  # Collection chưa tồn tại\n",
    "    \n",
    "    print(f\"🔧 Tạo collection mới: {collection_name}\")\n",
    "    print(f\"   Cấu hình: n_bin={n_bin}, h_type={h_type}, metric={metric}\")\n",
    "    \n",
    "    # Xóa collection cũ nếu có\n",
    "    try:\n",
    "        chroma_client.delete_collection(collection_name)\n",
    "    except:\n",
    "        pass\n",
    "    \n",
    "    # Tạo collection mới\n",
    "    chroma_metric = \"cosine\" if metric == \"cosine\" else \"l2\"\n",
    "    collection = chroma_client.create_collection(\n",
    "        name=collection_name,\n",
    "        metadata={\"n_bin\": n_bin, \"h_type\": h_type, \"metric\": metric},\n",
    "        embedding_function=None\n",
    "    )\n",
    "    \n",
    "    # Extract features\n",
    "    feature_extractor = RGBHistogram(n_bin=n_bin, h_type=h_type, n_slice=N_SLICE)\n",
    "    \n",
    "    print(\"📊 Extracting features từ training set...\")\n",
    "    stored_count = 0\n",
    "    train_labels_map = {}\n",
    "    \n",
    "    start_time = time()\n",
    "    \n",
    "    for batch_idx, (images, labels, _) in enumerate(tqdm(train_loader, desc=\"Indexing\")):\n",
    "        # Move to GPU if available\n",
    "        if device.type == \"cuda\":\n",
    "            images = images.to(device)\n",
    "        \n",
    "        # Convert to numpy\n",
    "        images_np = (images.cpu().numpy().transpose(0, 2, 3, 1) * 255).astype(np.uint8)\n",
    "        \n",
    "        # Extract features cho batch\n",
    "        batch_features = []\n",
    "        batch_ids = []\n",
    "        batch_metadatas = []\n",
    "        \n",
    "        for i, (img, label) in enumerate(zip(images_np, labels)):\n",
    "            feature = feature_extractor(img)\n",
    "            \n",
    "            vector_id = f\"train_{stored_count + i}\"\n",
    "            \n",
    "            batch_features.append(feature.tolist())\n",
    "            batch_ids.append(vector_id)\n",
    "            batch_metadatas.append({\n",
    "                \"type\": \"train\",\n",
    "                \"label\": int(label),\n",
    "                \"index\": stored_count + i\n",
    "            })\n",
    "            \n",
    "            train_labels_map[vector_id] = int(label)\n",
    "        \n",
    "        # Lưu batch vào ChromaDB\n",
    "        if batch_features:\n",
    "            collection.add(\n",
    "                embeddings=batch_features,\n",
    "                ids=batch_ids,\n",
    "                metadatas=batch_metadatas\n",
    "            )\n",
    "        \n",
    "        stored_count += len(batch_features)\n",
    "    \n",
    "    indexing_time = time() - start_time\n",
    "    \n",
    "    # Lưu labels mapping\n",
    "    try:\n",
    "        labels_json = json.dumps(train_labels_map)\n",
    "        collection.add(\n",
    "            embeddings=[[0.0] * len(batch_features[0])],\n",
    "            ids=[\"_labels_map_\"],\n",
    "            metadatas=[{\"type\": \"labels_map\"}],\n",
    "            documents=[labels_json]\n",
    "        )\n",
    "    except Exception as e:\n",
    "        print(f\"⚠️  Không thể lưu labels mapping: {e}\")\n",
    "    \n",
    "    print(f\"✅ Hoàn thành indexing: {stored_count} vectors trong {indexing_time:.2f}s\")\n",
    "    print(f\"⚡ Tốc độ: {stored_count/indexing_time:.1f} vectors/s\")\n",
    "    \n",
    "    return collection, stored_count\n",
    "\n",
    "print(\"📋 Hàm indexing đã sẵn sàng!\")\n"
   ],
   "outputs": [
    {
     "name": "stdout",
     "output_type": "stream",
     "text": [
      "📋 Hàm indexing đã sẵn sàng!\n"
     ]
    }
   ],
   "execution_count": 13
  },
  {
   "cell_type": "code",
   "metadata": {
    "ExecuteTime": {
     "end_time": "2025-07-12T09:04:43.875889Z",
     "start_time": "2025-07-12T08:27:39.704660Z"
    }
   },
   "source": [
    "# CHẠY INDEXING CHO TẤT CẢ CẤU HÌNH\n",
    "print(f\"🚀 Bắt đầu indexing cho {len(CONFIGS)} cấu hình...\")\n",
    "print(f\"📊 Sẽ index {train_size} training samples cho mỗi cấu hình\")\n",
    "print(\"⏳ Quá trình này có thể mất vài phút...\")\n",
    "\n",
    "indexing_results = []\n",
    "\n",
    "for i, (n_bin, h_type, metric) in enumerate(CONFIGS, 1):\n",
    "    print(f\"\\n{'='*60}\")\n",
    "    print(f\"Indexing {i}/{len(CONFIGS)}: {n_bin}bin_{h_type}_{metric}\")\n",
    "    print(f\"{'='*60}\")\n",
    "    \n",
    "    try:\n",
    "        start_time = time()\n",
    "        collection, count = extract_and_store_features(n_bin, h_type, metric)\n",
    "        end_time = time()\n",
    "        \n",
    "        result = {\n",
    "            'config': f\"{n_bin}bin_{h_type}_{metric}\",\n",
    "            'n_bin': n_bin,\n",
    "            'h_type': h_type,\n",
    "            'metric': metric,\n",
    "            'vectors_count': count,\n",
    "            'indexing_time': end_time - start_time\n",
    "        }\n",
    "        indexing_results.append(result)\n",
    "        \n",
    "        print(f\"✅ Hoàn thành: {count} vectors\")\n",
    "        \n",
    "    except Exception as e:\n",
    "        print(f\"❌ Lỗi khi indexing {n_bin}bin_{h_type}_{metric}: {e}\")\n",
    "        import traceback\n",
    "        traceback.print_exc()\n",
    "\n",
    "print(f\"\\n🎉 Hoàn thành indexing cho tất cả {len(indexing_results)} cấu hình!\")\n"
   ],
   "outputs": [
    {
     "name": "stdout",
     "output_type": "stream",
     "text": [
      "🚀 Bắt đầu indexing cho 8 cấu hình...\n",
      "📊 Sẽ index 23824 training samples cho mỗi cấu hình\n",
      "⏳ Quá trình này có thể mất vài phút...\n",
      "\n",
      "============================================================\n",
      "Indexing 1/8: 4bin_global_cosine\n",
      "============================================================\n",
      "📂 Sử dụng collection có sẵn: rgb_hist_4bin_global_cosine (1632 vectors)\n",
      "✅ Hoàn thành: 1632 vectors\n",
      "\n",
      "============================================================\n",
      "Indexing 2/8: 4bin_global_l2\n",
      "============================================================\n",
      "🔧 Tạo collection mới: rgb_hist_4bin_global_l2\n",
      "   Cấu hình: n_bin=4, h_type=global, metric=l2\n",
      "📊 Extracting features từ training set...\n"
     ]
    },
    {
     "name": "stderr",
     "output_type": "stream",
     "text": [
      "Indexing: 100%|██████████| 745/745 [04:50<00:00,  2.57it/s]\n"
     ]
    },
    {
     "name": "stdout",
     "output_type": "stream",
     "text": [
      "✅ Hoàn thành indexing: 23824 vectors trong 290.03s\n",
      "⚡ Tốc độ: 82.1 vectors/s\n",
      "✅ Hoàn thành: 23824 vectors\n",
      "\n",
      "============================================================\n",
      "Indexing 3/8: 4bin_region_cosine\n",
      "============================================================\n",
      "🔧 Tạo collection mới: rgb_hist_4bin_region_cosine\n",
      "   Cấu hình: n_bin=4, h_type=region, metric=cosine\n",
      "📊 Extracting features từ training set...\n"
     ]
    },
    {
     "name": "stderr",
     "output_type": "stream",
     "text": [
      "Indexing: 100%|██████████| 745/745 [06:18<00:00,  1.97it/s]\n"
     ]
    },
    {
     "name": "stdout",
     "output_type": "stream",
     "text": [
      "✅ Hoàn thành indexing: 23824 vectors trong 378.93s\n",
      "⚡ Tốc độ: 62.9 vectors/s\n",
      "✅ Hoàn thành: 23824 vectors\n",
      "\n",
      "============================================================\n",
      "Indexing 4/8: 4bin_region_l2\n",
      "============================================================\n",
      "🔧 Tạo collection mới: rgb_hist_4bin_region_l2\n",
      "   Cấu hình: n_bin=4, h_type=region, metric=l2\n",
      "📊 Extracting features từ training set...\n"
     ]
    },
    {
     "name": "stderr",
     "output_type": "stream",
     "text": [
      "Indexing: 100%|██████████| 745/745 [06:17<00:00,  1.97it/s]\n"
     ]
    },
    {
     "name": "stdout",
     "output_type": "stream",
     "text": [
      "✅ Hoàn thành indexing: 23824 vectors trong 377.54s\n",
      "⚡ Tốc độ: 63.1 vectors/s\n",
      "✅ Hoàn thành: 23824 vectors\n",
      "\n",
      "============================================================\n",
      "Indexing 5/8: 8bin_global_cosine\n",
      "============================================================\n",
      "🔧 Tạo collection mới: rgb_hist_8bin_global_cosine\n",
      "   Cấu hình: n_bin=8, h_type=global, metric=cosine\n",
      "📊 Extracting features từ training set...\n"
     ]
    },
    {
     "name": "stderr",
     "output_type": "stream",
     "text": [
      "Indexing: 100%|██████████| 745/745 [05:27<00:00,  2.28it/s]\n"
     ]
    },
    {
     "name": "stdout",
     "output_type": "stream",
     "text": [
      "✅ Hoàn thành indexing: 23824 vectors trong 327.30s\n",
      "⚡ Tốc độ: 72.8 vectors/s\n",
      "✅ Hoàn thành: 23824 vectors\n",
      "\n",
      "============================================================\n",
      "Indexing 6/8: 8bin_global_l2\n",
      "============================================================\n",
      "🔧 Tạo collection mới: rgb_hist_8bin_global_l2\n",
      "   Cấu hình: n_bin=8, h_type=global, metric=l2\n",
      "📊 Extracting features từ training set...\n"
     ]
    },
    {
     "name": "stderr",
     "output_type": "stream",
     "text": [
      "Indexing: 100%|██████████| 745/745 [03:05<00:00,  4.01it/s]\n"
     ]
    },
    {
     "name": "stdout",
     "output_type": "stream",
     "text": [
      "✅ Hoàn thành indexing: 23824 vectors trong 185.58s\n",
      "⚡ Tốc độ: 128.4 vectors/s\n",
      "✅ Hoàn thành: 23824 vectors\n",
      "\n",
      "============================================================\n",
      "Indexing 7/8: 8bin_region_cosine\n",
      "============================================================\n",
      "🔧 Tạo collection mới: rgb_hist_8bin_region_cosine\n",
      "   Cấu hình: n_bin=8, h_type=region, metric=cosine\n",
      "📊 Extracting features từ training set...\n"
     ]
    },
    {
     "name": "stderr",
     "output_type": "stream",
     "text": [
      "Indexing: 100%|██████████| 745/745 [05:30<00:00,  2.25it/s]\n"
     ]
    },
    {
     "name": "stdout",
     "output_type": "stream",
     "text": [
      "✅ Hoàn thành indexing: 23824 vectors trong 330.44s\n",
      "⚡ Tốc độ: 72.1 vectors/s\n",
      "✅ Hoàn thành: 23824 vectors\n",
      "\n",
      "============================================================\n",
      "Indexing 8/8: 8bin_region_l2\n",
      "============================================================\n",
      "🔧 Tạo collection mới: rgb_hist_8bin_region_l2\n",
      "   Cấu hình: n_bin=8, h_type=region, metric=l2\n",
      "📊 Extracting features từ training set...\n"
     ]
    },
    {
     "name": "stderr",
     "output_type": "stream",
     "text": [
      "Indexing: 100%|██████████| 745/745 [05:33<00:00,  2.24it/s]"
     ]
    },
    {
     "name": "stdout",
     "output_type": "stream",
     "text": [
      "✅ Hoàn thành indexing: 23824 vectors trong 333.03s\n",
      "⚡ Tốc độ: 71.5 vectors/s\n",
      "✅ Hoàn thành: 23824 vectors\n",
      "\n",
      "🎉 Hoàn thành indexing cho tất cả 8 cấu hình!\n"
     ]
    },
    {
     "name": "stderr",
     "output_type": "stream",
     "text": [
      "\n"
     ]
    }
   ],
   "execution_count": 14
  },
  {
   "cell_type": "code",
   "metadata": {
    "ExecuteTime": {
     "end_time": "2025-07-12T09:06:24.654168Z",
     "start_time": "2025-07-12T09:06:24.620241Z"
    }
   },
   "source": [
    "# HIỂN THỊ KẾT QUẢ INDEXING\n",
    "if indexing_results:\n",
    "    print(\"\\n📊 INDEXING SUMMARY:\")\n",
    "    print(\"-\" * 60)\n",
    "    for result in indexing_results:\n",
    "        print(f\"{result['config']:<20} | {result['vectors_count']:>6} vectors | {result['indexing_time']:>6.1f}s\")\n",
    "    \n",
    "    # Lưu kết quả\n",
    "    indexing_df = pd.DataFrame(indexing_results)\n",
    "    indexing_df.to_csv('out/indexing_results.csv', index=False)\n",
    "    print(f\"\\n💾 Kết quả indexing lưu tại: out/indexing_results.csv\")\n",
    "    \n",
    "    print(f\"\\n📊 Tổng kết:\")\n",
    "    print(f\"   - Tổng collections: {len(chroma_client.list_collections())}\")\n",
    "    print(f\"   - Tổng vectors: {sum(r['vectors_count'] for r in indexing_results):,}\")\n",
    "    print(f\"   - Tổng thời gian: {sum(r['indexing_time'] for r in indexing_results):.1f}s\")\n",
    "else:\n",
    "    print(\"Không có kết quả indexing nào!\")\n",
    "\n",
    "# GPU memory cleanup after indexing\n",
    "if device.type == \"cuda\":\n",
    "    torch.cuda.empty_cache()\n",
    "    print(\"🧹 GPU memory cleaned up after indexing\")\n"
   ],
   "outputs": [
    {
     "name": "stdout",
     "output_type": "stream",
     "text": [
      "\n",
      "📊 INDEXING SUMMARY:\n",
      "------------------------------------------------------------\n",
      "4bin_global_cosine   |   1632 vectors |    0.0s\n",
      "4bin_global_l2       |  23824 vectors |  290.1s\n",
      "4bin_region_cosine   |  23824 vectors |  379.1s\n",
      "4bin_region_l2       |  23824 vectors |  378.0s\n",
      "8bin_global_cosine   |  23824 vectors |  327.4s\n",
      "8bin_global_l2       |  23824 vectors |  185.7s\n",
      "8bin_region_cosine   |  23824 vectors |  330.6s\n",
      "8bin_region_l2       |  23824 vectors |  333.2s\n",
      "\n",
      "💾 Kết quả indexing lưu tại: out/indexing_results.csv\n",
      "\n",
      "📊 Tổng kết:\n",
      "   - Tổng collections: 8\n",
      "   - Tổng vectors: 168,400\n",
      "   - Tổng thời gian: 2224.2s\n",
      "🧹 GPU memory cleaned up after indexing\n"
     ]
    }
   ],
   "execution_count": 15
  },
  {
   "cell_type": "raw",
   "metadata": {
    "vscode": {
     "languageId": "raw"
    }
   },
   "source": [
    "## 3. Evaluation - Chạy Đánh Giá trên Data Đã Có\n",
    "\n",
    "**Bước này sẽ nhanh hơn nhiều vì đã có features trong ChromaDB!**\n",
    "\n",
    "Sẽ test trên 1000 samples từ test set và tính mAP@1, mAP@5, mAP@10.\n"
   ]
  },
  {
   "cell_type": "code",
   "metadata": {
    "ExecuteTime": {
     "end_time": "2025-07-12T09:06:35.707019Z",
     "start_time": "2025-07-12T09:06:35.688808Z"
    }
   },
   "source": [
    "def get_train_labels(collection):\n",
    "    \"\"\"Lấy labels mapping từ collection\"\"\"\n",
    "    try:\n",
    "        # Thử lấy từ labels map\n",
    "        result = collection.get(ids=[\"_labels_map_\"])\n",
    "        if result['documents'] and len(result['documents']) > 0:\n",
    "            return json.loads(result['documents'][0])\n",
    "    except:\n",
    "        pass\n",
    "    \n",
    "    # Fallback: lấy từ metadata\n",
    "    all_data = collection.get(where={\"type\": \"train\"})\n",
    "    labels_map = {}\n",
    "    for id, metadata in zip(all_data['ids'], all_data['metadatas']):\n",
    "        if 'label' in metadata:\n",
    "            labels_map[id] = metadata['label']\n",
    "    \n",
    "    return labels_map\n",
    "\n",
    "def evaluate_configuration(n_bin, h_type, metric):\n",
    "    \"\"\"Evaluate một cấu hình\"\"\"\n",
    "    collection_name = get_collection_name(n_bin, h_type, metric)\n",
    "    \n",
    "    try:\n",
    "        collection = chroma_client.get_collection(collection_name)\n",
    "        train_labels_map = get_train_labels(collection)\n",
    "        \n",
    "        print(f\"📊 Found {len(train_labels_map)} training vectors\")\n",
    "        \n",
    "        if len(train_labels_map) == 0:\n",
    "            print(\"❌ Không có training data! Vui lòng chạy indexing trước.\")\n",
    "            return None\n",
    "        \n",
    "    except Exception as e:\n",
    "        print(f\"❌ Không tìm thấy collection {collection_name}: {e}\")\n",
    "        print(\"Vui lòng chạy indexing trước!\")\n",
    "        return None\n",
    "    \n",
    "    # Extract test features và evaluate\n",
    "    feature_extractor = RGBHistogram(n_bin=n_bin, h_type=h_type, n_slice=N_SLICE)\n",
    "    \n",
    "    all_results = []\n",
    "    test_labels = []\n",
    "    tested_count = 0\n",
    "    \n",
    "    start_time = time()\n",
    "    \n",
    "    for images, labels, _ in tqdm(test_loader, desc=\"Testing\"):\n",
    "        if tested_count >= TEST_SIZE:\n",
    "            break\n",
    "        \n",
    "        count = min(len(images), TEST_SIZE - tested_count)\n",
    "        batch_images = images[:count]\n",
    "        batch_labels = labels[:count]\n",
    "        \n",
    "        # Move to GPU if available\n",
    "        if device.type == \"cuda\":\n",
    "            batch_images = batch_images.to(device)\n",
    "        \n",
    "        # Convert to numpy\n",
    "        images_np = (batch_images.cpu().numpy().transpose(0, 2, 3, 1) * 255).astype(np.uint8)\n",
    "        \n",
    "        for img, label in zip(images_np, batch_labels):\n",
    "            if tested_count >= TEST_SIZE:\n",
    "                break\n",
    "            \n",
    "            # Extract test feature\n",
    "            test_feature = feature_extractor(img)\n",
    "            \n",
    "            # Query ChromaDB\n",
    "            results = collection.query(\n",
    "                query_embeddings=[test_feature.tolist()],\n",
    "                n_results=max(K_VALUES),\n",
    "                where={\"type\": \"train\"}\n",
    "            )\n",
    "            \n",
    "            # Lấy labels của kết quả\n",
    "            if results['ids'] and len(results['ids'][0]) > 0:\n",
    "                retrieved_ids = results['ids'][0]\n",
    "                retrieved_labels = [train_labels_map.get(id, -1) for id in retrieved_ids]\n",
    "                all_results.append(retrieved_labels)\n",
    "            else:\n",
    "                all_results.append([])\n",
    "            \n",
    "            test_labels.append(int(label))\n",
    "            tested_count += 1\n",
    "    \n",
    "    retrieval_time = time() - start_time\n",
    "    \n",
    "    # Tính metrics\n",
    "    metrics_data = {}\n",
    "    \n",
    "    for k in K_VALUES:\n",
    "        map_scores = []\n",
    "        recall_scores = []\n",
    "        hit_scores = []\n",
    "        \n",
    "        for retrieved_labels, gt_label in zip(all_results, test_labels):\n",
    "            if len(retrieved_labels) == 0:\n",
    "                map_scores.append(0.0)\n",
    "                recall_scores.append(0.0)\n",
    "                hit_scores.append(0.0)\n",
    "                continue\n",
    "            \n",
    "            # Top-k results\n",
    "            top_k_labels = retrieved_labels[:k]\n",
    "            \n",
    "            # Tính metrics\n",
    "            ap = average_precision(top_k_labels, [gt_label], k)\n",
    "            relevant_indices = [i for i, label in enumerate(train_labels_map.values()) if label == gt_label]\n",
    "            rec = recall(list(range(len(top_k_labels))), relevant_indices, k)\n",
    "            hr = hit_rate(top_k_labels, [gt_label], k)\n",
    "            \n",
    "            map_scores.append(ap)\n",
    "            recall_scores.append(rec)\n",
    "            hit_scores.append(hr)\n",
    "        \n",
    "        # Lưu metrics\n",
    "        metrics_data[f'mAP@{k}'] = np.mean(map_scores)\n",
    "        metrics_data[f'Recall@{k}'] = np.mean(recall_scores)\n",
    "        metrics_data[f'HitRate@{k}'] = np.mean(hit_scores)\n",
    "        \n",
    "        print(f\"   k={k}: mAP={np.mean(map_scores):.4f}, Recall={np.mean(recall_scores):.4f}, HR={np.mean(hit_scores):.4f}\")\n",
    "    \n",
    "    # Tính average mAP\n",
    "    avg_map = np.mean([metrics_data[f'mAP@{k}'] for k in K_VALUES])\n",
    "    metrics_data['avg_mAP'] = avg_map\n",
    "    \n",
    "    # Thêm thông tin cấu hình\n",
    "    metrics_data.update({\n",
    "        'n_bin': n_bin,\n",
    "        'h_type': h_type,\n",
    "        'metric': metric,\n",
    "        'config_name': f\"{n_bin}bin_{h_type}_{metric}\",\n",
    "        'retrieval_time': retrieval_time,\n",
    "        'tested_samples': tested_count,\n",
    "        'train_samples': len(train_labels_map)\n",
    "    })\n",
    "    \n",
    "    return metrics_data\n",
    "\n",
    "print(\"📋 Hàm evaluation đã sẵn sàng!\")\n"
   ],
   "outputs": [
    {
     "name": "stdout",
     "output_type": "stream",
     "text": [
      "📋 Hàm evaluation đã sẵn sàng!\n"
     ]
    }
   ],
   "execution_count": 16
  },
  {
   "cell_type": "code",
   "metadata": {
    "ExecuteTime": {
     "end_time": "2025-07-12T11:19:36.897828Z",
     "start_time": "2025-07-12T09:06:42.253565Z"
    }
   },
   "source": [
    "# CHẠY EVALUATION CHO TẤT CẢ CẤU HÌNH\n",
    "print(f\"🚀 Bắt đầu evaluation cho {len(CONFIGS)} cấu hình...\")\n",
    "print(f\"📊 Sẽ test trên {TEST_SIZE} samples\")\n",
    "print(f\"🎯 Metrics: mAP@{K_VALUES}\")\n",
    "\n",
    "evaluation_results = []\n",
    "\n",
    "for i, (n_bin, h_type, metric) in enumerate(CONFIGS, 1):\n",
    "    print(f\"\\n{'='*60}\")\n",
    "    print(f\"Evaluation {i}/{len(CONFIGS)}: {n_bin}bin_{h_type}_{metric}\")\n",
    "    print(f\"{'='*60}\")\n",
    "    \n",
    "    try:\n",
    "        result = evaluate_configuration(n_bin, h_type, metric)\n",
    "        if result:\n",
    "            evaluation_results.append(result)\n",
    "            print(f\"✅ Hoàn thành: avg_mAP = {result['avg_mAP']:.4f}\")\n",
    "        else:\n",
    "            print(f\"❌ Thất bại: {n_bin}bin_{h_type}_{metric}\")\n",
    "            \n",
    "    except Exception as e:\n",
    "        print(f\"❌ Lỗi khi evaluate {n_bin}bin_{h_type}_{metric}: {e}\")\n",
    "        import traceback\n",
    "        traceback.print_exc()\n",
    "\n",
    "print(f\"\\n🎉 Hoàn thành evaluation cho {len(evaluation_results)} cấu hình!\")\n"
   ],
   "outputs": [
    {
     "name": "stdout",
     "output_type": "stream",
     "text": [
      "🚀 Bắt đầu evaluation cho 8 cấu hình...\n",
      "📊 Sẽ test trên 5956 samples\n",
      "🎯 Metrics: mAP@[1, 5, 10]\n",
      "\n",
      "============================================================\n",
      "Evaluation 1/8: 4bin_global_cosine\n",
      "============================================================\n",
      "📊 Found 1632 training vectors\n"
     ]
    },
    {
     "name": "stderr",
     "output_type": "stream",
     "text": [
      "Testing: 100%|██████████| 187/187 [13:02<00:00,  4.18s/it]\n"
     ]
    },
    {
     "name": "stdout",
     "output_type": "stream",
     "text": [
      "   k=1: mAP=0.0155, Recall=0.0004, HR=0.0311\n",
      "   k=5: mAP=0.0276, Recall=0.0034, HR=0.0229\n",
      "   k=10: mAP=0.0306, Recall=0.0063, HR=0.0199\n",
      "✅ Hoàn thành: avg_mAP = 0.0246\n",
      "\n",
      "============================================================\n",
      "Evaluation 2/8: 4bin_global_l2\n",
      "============================================================\n",
      "📊 Found 23824 training vectors\n"
     ]
    },
    {
     "name": "stderr",
     "output_type": "stream",
     "text": [
      "Testing: 100%|██████████| 187/187 [16:06<00:00,  5.17s/it]\n"
     ]
    },
    {
     "name": "stdout",
     "output_type": "stream",
     "text": [
      "   k=1: mAP=0.0314, Recall=0.0000, HR=0.0628\n",
      "   k=5: mAP=0.0492, Recall=0.0002, HR=0.0417\n",
      "   k=10: mAP=0.0536, Recall=0.0004, HR=0.0362\n",
      "✅ Hoàn thành: avg_mAP = 0.0447\n",
      "\n",
      "============================================================\n",
      "Evaluation 3/8: 4bin_region_cosine\n",
      "============================================================\n",
      "📊 Found 23824 training vectors\n"
     ]
    },
    {
     "name": "stderr",
     "output_type": "stream",
     "text": [
      "Testing: 100%|██████████| 187/187 [18:07<00:00,  5.82s/it]\n"
     ]
    },
    {
     "name": "stdout",
     "output_type": "stream",
     "text": [
      "   k=1: mAP=0.0468, Recall=0.0000, HR=0.0937\n",
      "   k=5: mAP=0.0751, Recall=0.0002, HR=0.0698\n",
      "   k=10: mAP=0.0799, Recall=0.0004, HR=0.0600\n",
      "✅ Hoàn thành: avg_mAP = 0.0673\n",
      "\n",
      "============================================================\n",
      "Evaluation 4/8: 4bin_region_l2\n",
      "============================================================\n",
      "📊 Found 23824 training vectors\n"
     ]
    },
    {
     "name": "stderr",
     "output_type": "stream",
     "text": [
      "Testing: 100%|██████████| 187/187 [16:13<00:00,  5.20s/it]\n"
     ]
    },
    {
     "name": "stdout",
     "output_type": "stream",
     "text": [
      "   k=1: mAP=0.0464, Recall=0.0000, HR=0.0928\n",
      "   k=5: mAP=0.0734, Recall=0.0002, HR=0.0680\n",
      "   k=10: mAP=0.0789, Recall=0.0004, HR=0.0600\n",
      "✅ Hoàn thành: avg_mAP = 0.0662\n",
      "\n",
      "============================================================\n",
      "Evaluation 5/8: 8bin_global_cosine\n",
      "============================================================\n",
      "📊 Found 23824 training vectors\n"
     ]
    },
    {
     "name": "stderr",
     "output_type": "stream",
     "text": [
      "Testing: 100%|██████████| 187/187 [16:11<00:00,  5.20s/it]\n"
     ]
    },
    {
     "name": "stdout",
     "output_type": "stream",
     "text": [
      "   k=1: mAP=0.0339, Recall=0.0000, HR=0.0678\n",
      "   k=5: mAP=0.0539, Recall=0.0002, HR=0.0476\n",
      "   k=10: mAP=0.0583, Recall=0.0004, HR=0.0409\n",
      "✅ Hoàn thành: avg_mAP = 0.0487\n",
      "\n",
      "============================================================\n",
      "Evaluation 6/8: 8bin_global_l2\n",
      "============================================================\n",
      "📊 Found 23824 training vectors\n"
     ]
    },
    {
     "name": "stderr",
     "output_type": "stream",
     "text": [
      "Testing: 100%|██████████| 187/187 [20:02<00:00,  6.43s/it]\n"
     ]
    },
    {
     "name": "stdout",
     "output_type": "stream",
     "text": [
      "   k=1: mAP=0.0343, Recall=0.0000, HR=0.0687\n",
      "   k=5: mAP=0.0544, Recall=0.0002, HR=0.0478\n",
      "   k=10: mAP=0.0587, Recall=0.0004, HR=0.0408\n",
      "✅ Hoàn thành: avg_mAP = 0.0491\n",
      "\n",
      "============================================================\n",
      "Evaluation 7/8: 8bin_region_cosine\n",
      "============================================================\n",
      "📊 Found 23824 training vectors\n"
     ]
    },
    {
     "name": "stderr",
     "output_type": "stream",
     "text": [
      "Testing: 100%|██████████| 187/187 [15:41<00:00,  5.04s/it]\n"
     ]
    },
    {
     "name": "stdout",
     "output_type": "stream",
     "text": [
      "   k=1: mAP=0.0410, Recall=0.0000, HR=0.0819\n",
      "   k=5: mAP=0.0662, Recall=0.0002, HR=0.0631\n",
      "   k=10: mAP=0.0711, Recall=0.0004, HR=0.0562\n",
      "✅ Hoàn thành: avg_mAP = 0.0594\n",
      "\n",
      "============================================================\n",
      "Evaluation 8/8: 8bin_region_l2\n",
      "============================================================\n",
      "📊 Found 23824 training vectors\n"
     ]
    },
    {
     "name": "stderr",
     "output_type": "stream",
     "text": [
      "Testing: 100%|██████████| 187/187 [15:41<00:00,  5.04s/it]\n"
     ]
    },
    {
     "name": "stdout",
     "output_type": "stream",
     "text": [
      "   k=1: mAP=0.0427, Recall=0.0000, HR=0.0855\n",
      "   k=5: mAP=0.0682, Recall=0.0002, HR=0.0645\n",
      "   k=10: mAP=0.0727, Recall=0.0004, HR=0.0566\n",
      "✅ Hoàn thành: avg_mAP = 0.0612\n",
      "\n",
      "🎉 Hoàn thành evaluation cho 8 cấu hình!\n"
     ]
    }
   ],
   "execution_count": 17
  },
  {
   "cell_type": "code",
   "metadata": {
    "ExecuteTime": {
     "end_time": "2025-07-12T11:21:33.123479Z",
     "start_time": "2025-07-12T11:21:33.096123Z"
    }
   },
   "source": [
    "# PHÂN TÍCH KẾT QUẢ\n",
    "if evaluation_results:\n",
    "    print(f\"\\n{'='*80}\")\n",
    "    print(\"📊 KẾT QUẢ ĐÁNH GIÁ TOÀN BỘ - DATASET 80/20\")\n",
    "    print(f\"{'='*80}\")\n",
    "    \n",
    "    # Sắp xếp theo avg_mAP\n",
    "    sorted_results = sorted(evaluation_results, key=lambda x: x['avg_mAP'], reverse=True)\n",
    "    \n",
    "    # Hiển thị ranking\n",
    "    print(f\"\\n🏆 XẾP HẠNG THEO AVERAGE mAP\")\n",
    "    print(\"-\" * 85)\n",
    "    print(f\"{'Rank':<4} {'Configuration':<20} {'Avg mAP':<10} {'mAP@1':<8} {'mAP@5':<8} {'mAP@10':<8} {'Time(s)':<8}\")\n",
    "    print(\"-\" * 85)\n",
    "    \n",
    "    for i, result in enumerate(sorted_results, 1):\n",
    "        print(f\"{i:<4} {result['config_name']:<20} {result['avg_mAP']:<10.4f} \"\n",
    "              f\"{result['mAP@1']:<8.4f} {result['mAP@5']:<8.4f} {result['mAP@10']:<8.4f} \"\n",
    "              f\"{result['retrieval_time']:<8.1f}\")\n",
    "    \n",
    "    # Cấu hình tốt nhất\n",
    "    best = sorted_results[0]\n",
    "    print(f\"\\n🥇 CẤU HÌNH TỐT NHẤT: {best['config_name']}\")\n",
    "    print(f\"   Average mAP: {best['avg_mAP']:.4f}\")\n",
    "    print(f\"   Training samples: {best['train_samples']}\")\n",
    "    print(f\"   Test samples: {best['tested_samples']}\")\n",
    "    print(f\"   Retrieval time: {best['retrieval_time']:.2f}s\")\n",
    "    for k in K_VALUES:\n",
    "        print(f\"   mAP@{k}: {best[f'mAP@{k}']:.4f}\")\n",
    "    \n",
    "    # Lưu kết quả\n",
    "    df = pd.DataFrame(sorted_results)\n",
    "    csv_path = 'out/evaluation_results_chromadb.csv'\n",
    "    df.to_csv(csv_path, index=False)\n",
    "    print(f\"\\n💾 Kết quả chi tiết lưu tại: {csv_path}\")\n",
    "    \n",
    "    # Lưu cấu hình tốt nhất\n",
    "    best_config = {\n",
    "        'config_name': best['config_name'],\n",
    "        'n_bin': best['n_bin'],\n",
    "        'h_type': best['h_type'],\n",
    "        'metric': best['metric'],\n",
    "        'avg_mAP': best['avg_mAP'],\n",
    "        'train_samples': best['train_samples'],\n",
    "        'test_samples': best['tested_samples'],\n",
    "        **{f'mAP@{k}': best[f'mAP@{k}'] for k in K_VALUES}\n",
    "    }\n",
    "    \n",
    "    with open('out/best_config_chromadb.json', 'w') as f:\n",
    "        json.dump(best_config, f, indent=2)\n",
    "    print(\"📋 Cấu hình tốt nhất lưu tại: out/best_config_chromadb.json\")\n",
    "    \n",
    "    # Top 3 summary\n",
    "    print(f\"\\n🏅 TOP 3 CẤU HÌNH:\")\n",
    "    emojis = [\"🥇\", \"🥈\", \"🥉\"]\n",
    "    for i, result in enumerate(sorted_results[:3]):\n",
    "        emoji = emojis[i] if i < len(emojis) else \"🏅\"\n",
    "        print(f\"{emoji} {result['config_name']}: avg_mAP={result['avg_mAP']:.4f} \"\n",
    "              f\"(n_bin={result['n_bin']}, h_type={result['h_type']}, metric={result['metric']})\")\n",
    "    \n",
    "    print(f\"\\n💾 ChromaDB Storage: {CHROMA_DIR}\")\n",
    "    print(\"🔍 Vector collections được lưu trữ để tái sử dụng\")\n",
    "    print(\"♻️  Lần chạy tiếp theo sẽ nhanh hơn nhờ cache\")\n",
    "    print(\"\\n🎉 Hoàn thành toàn bộ quá trình evaluation!\")\n",
    "    \n",
    "else:\n",
    "    print(\"❌ Không có kết quả evaluation nào!\")\n",
    "    print(\"Vui lòng đảm bảo đã chạy indexing thành công trước.\")\n",
    "\n",
    "# GPU memory cleanup\n",
    "if device.type == \"cuda\":\n",
    "    torch.cuda.empty_cache()\n",
    "    print(\"🧹 GPU memory cleaned up\")\n"
   ],
   "outputs": [
    {
     "name": "stdout",
     "output_type": "stream",
     "text": [
      "\n",
      "================================================================================\n",
      "📊 KẾT QUẢ ĐÁNH GIÁ TOÀN BỘ - DATASET 80/20\n",
      "================================================================================\n",
      "\n",
      "🏆 XẾP HẠNG THEO AVERAGE mAP\n",
      "-------------------------------------------------------------------------------------\n",
      "Rank Configuration        Avg mAP    mAP@1    mAP@5    mAP@10   Time(s) \n",
      "-------------------------------------------------------------------------------------\n",
      "1    4bin_region_cosine   0.0673     0.0468   0.0751   0.0799   1087.6  \n",
      "2    4bin_region_l2       0.0662     0.0464   0.0734   0.0789   973.1   \n",
      "3    8bin_region_l2       0.0612     0.0427   0.0682   0.0727   941.8   \n",
      "4    8bin_region_cosine   0.0594     0.0410   0.0662   0.0711   941.9   \n",
      "5    8bin_global_l2       0.0491     0.0343   0.0544   0.0587   1202.2  \n",
      "6    8bin_global_cosine   0.0487     0.0339   0.0539   0.0583   971.9   \n",
      "7    4bin_global_l2       0.0447     0.0314   0.0492   0.0536   966.5   \n",
      "8    4bin_global_cosine   0.0246     0.0155   0.0276   0.0306   782.3   \n",
      "\n",
      "🥇 CẤU HÌNH TỐT NHẤT: 4bin_region_cosine\n",
      "   Average mAP: 0.0673\n",
      "   Training samples: 23824\n",
      "   Test samples: 5956\n",
      "   Retrieval time: 1087.57s\n",
      "   mAP@1: 0.0468\n",
      "   mAP@5: 0.0751\n",
      "   mAP@10: 0.0799\n",
      "\n",
      "💾 Kết quả chi tiết lưu tại: out/evaluation_results_chromadb.csv\n",
      "📋 Cấu hình tốt nhất lưu tại: out/best_config_chromadb.json\n",
      "\n",
      "🏅 TOP 3 CẤU HÌNH:\n",
      "🥇 4bin_region_cosine: avg_mAP=0.0673 (n_bin=4, h_type=region, metric=cosine)\n",
      "🥈 4bin_region_l2: avg_mAP=0.0662 (n_bin=4, h_type=region, metric=l2)\n",
      "🥉 8bin_region_l2: avg_mAP=0.0612 (n_bin=8, h_type=region, metric=l2)\n",
      "\n",
      "💾 ChromaDB Storage: chroma_storage\n",
      "🔍 Vector collections được lưu trữ để tái sử dụng\n",
      "♻️  Lần chạy tiếp theo sẽ nhanh hơn nhờ cache\n",
      "\n",
      "🎉 Hoàn thành toàn bộ quá trình evaluation!\n",
      "🧹 GPU memory cleaned up\n"
     ]
    }
   ],
   "execution_count": 18
  },
  {
   "cell_type": "raw",
   "metadata": {
    "vscode": {
     "languageId": "raw"
    }
   },
   "source": [
    "## Hướng Dẫn Sử Dụng\n",
    "\n",
    "### 📋 Quy Trình Sử Dụng:\n",
    "\n",
    "1. **Chạy Cell 1-5**: Setup và cấu hình\n",
    "2. **Chạy Cell 6-9**: Indexing (mất thời gian, chỉ cần chạy 1 lần)\n",
    "3. **Chạy Cell 10-13**: Evaluation (nhanh, có thể chạy nhiều lần)\n",
    "\n",
    "### 🎯 Kết Quả Mong Đợi:\n",
    "\n",
    "- **Dataset**: 80% training (23,824 samples) / 20% testing (5,956 samples)\n",
    "- **Configurations**: 8 tổ hợp (n_bin × h_type × metric)\n",
    "- **Metrics**: mAP@1, mAP@5, mAP@10, Recall, Hit Rate\n",
    "- **Storage**: ChromaDB với ~200MB (thay vì >1GB pkl files)\n",
    "- **GPU Support**: Tự động detect và sử dụng GPU nếu có sẵn\n",
    "\n",
    "### 💾 Output Files:\n",
    "\n",
    "- `out/indexing_results.csv`: Kết quả indexing\n",
    "- `out/evaluation_results_chromadb.csv`: Kết quả evaluation chi tiết\n",
    "- `out/best_config_chromadb.json`: Cấu hình tốt nhất\n",
    "- `chroma_storage/`: Vector database storage\n",
    "\n",
    "### 🔄 Lần Chạy Tiếp Theo:\n",
    "\n",
    "Khi chạy lại, indexing sẽ **tự động sử dụng cache** từ ChromaDB, chỉ cần chạy evaluation!\n",
    "\n",
    "### ⚡ Performance Notes:\n",
    "\n",
    "- **GPU**: Tự động sử dụng CUDA nếu có, tăng tốc ~3-5x\n",
    "- **Memory**: Tự động cleanup GPU memory sau mỗi bước\n",
    "- **Caching**: ChromaDB lưu trữ persistent, không cần recompute features\n"
   ]
  }
 ],
 "metadata": {
  "language_info": {
   "name": "python"
  }
 },
 "nbformat": 4,
 "nbformat_minor": 2
}
