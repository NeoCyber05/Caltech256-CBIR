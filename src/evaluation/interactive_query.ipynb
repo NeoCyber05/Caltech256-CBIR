{
  "cells": [
    {
      "cell_type": "raw",
      "metadata": {
        "vscode": {
          "languageId": "raw"
        }
      },
      "source": [
        "# 🔍 Interactive Image Query\n",
        "Query với best color model từ comprehensive evaluation\n"
      ]
    },
    {
      "cell_type": "code",
      "execution_count": null,
      "metadata": {},
      "outputs": [],
      "source": [
        "import os\n",
        "import pickle\n",
        "import gzip\n",
        "import json\n",
        "import numpy as np\n",
        "import cv2\n",
        "import matplotlib.pyplot as plt\n",
        "from pathlib import Path\n",
        "import glob\n",
        "from PIL import Image\n",
        "\n",
        "# Import từ src\n",
        "from src.datasets.caltech256 import Caltech256DataModule\n",
        "from src.featuring.rgb_histogram import RGBHistogram\n",
        "from src.storage.VectorDBStore import VectorDBStore\n",
        "from src.retrieval.KNN import KNNRetrieval\n",
        "from src.pipeline import CBIR\n"
      ]
    },
    {
      "cell_type": "raw",
      "metadata": {
        "vscode": {
          "languageId": "raw"
        }
      },
      "source": [
        "## 📥 Load Best Model\n"
      ]
    },
    {
      "cell_type": "code",
      "execution_count": null,
      "metadata": {},
      "outputs": [],
      "source": [
        "# Load best model config\n",
        "try:\n",
        "    with open('out/best_color_config.json', 'r') as f:\n",
        "        best_config = json.load(f)\n",
        "    \n",
        "    print(\"🏆 Best Color Model Configuration:\")\n",
        "    print(f\"   Config: {best_config['config_name']}\")\n",
        "    print(f\"   n_bin: {best_config['n_bin']}\")\n",
        "    print(f\"   h_type: {best_config['h_type']}\")\n",
        "    print(f\"   metric: {best_config['metric']}\")\n",
        "    print(f\"   Average mAP: {best_config['avg_mAP']:.4f}\")\n",
        "    print(f\"   mAP@1: {best_config['mAP@1']:.4f}\")\n",
        "    print(f\"   mAP@5: {best_config['mAP@5']:.4f}\")\n",
        "    print(f\"   mAP@10: {best_config['mAP@10']:.4f}\")\n",
        "    \n",
        "except FileNotFoundError:\n",
        "    print(\"❌ Best config file not found! Please run evaluation first.\")\n",
        "    \n",
        "# Load best model\n",
        "try:\n",
        "    with gzip.open('out/best_color.pkl.gz', 'rb') as f:\n",
        "        best_cbir = pickle.load(f)\n",
        "    \n",
        "    file_size = os.path.getsize('out/best_color.pkl.gz') / 1024 / 1024\n",
        "    print(f\"\\n💾 Model loaded successfully ({file_size:.2f} MB)\")\n",
        "    print(f\"📊 Indexed images: {len(best_cbir.feature_store.vectors)}\")\n",
        "    \n",
        "except FileNotFoundError:\n",
        "    print(\"❌ Best model file not found! Please run evaluation first.\")\n"
      ]
    },
    {
      "cell_type": "raw",
      "metadata": {
        "vscode": {
          "languageId": "raw"
        }
      },
      "source": [
        "## 🖼️ Setup Dataset for Image Paths\n"
      ]
    },
    {
      "cell_type": "code",
      "execution_count": null,
      "metadata": {},
      "outputs": [],
      "source": [
        "# Load dataset để lấy đường dẫn ảnh\n",
        "root_path = os.path.abspath('data/caltech-256/256_ObjectCategories')\n",
        "data_module = Caltech256DataModule(batch_size=1, root=root_path)\n",
        "data_module.setup()\n",
        "\n",
        "# Lấy tất cả image paths từ train dataset\n",
        "train_dataset = data_module.train_dataset\n",
        "image_paths = train_dataset.image_paths[:len(best_cbir.feature_store.vectors)]\n",
        "labels = train_dataset.labels[:len(best_cbir.feature_store.vectors)]\n",
        "class_names = train_dataset.classes\n",
        "\n",
        "print(f\"📂 Loaded {len(image_paths)} indexed image paths\")\n",
        "print(f\"🏷️  Available classes: {len(class_names)}\")\n",
        "print(f\"📋 Sample classes: {class_names[:5]}...\")\n"
      ]
    },
    {
      "cell_type": "raw",
      "metadata": {
        "vscode": {
          "languageId": "raw"
        }
      },
      "source": [
        "## 🎯 Query Functions\n"
      ]
    },
    {
      "cell_type": "code",
      "execution_count": null,
      "metadata": {},
      "outputs": [],
      "source": [
        "def load_and_display_image(image_path, title=\"Image\", ax=None):\n",
        "    \"\"\"Load và display một ảnh\"\"\"\n",
        "    if ax is None:\n",
        "        fig, ax = plt.subplots(1, 1, figsize=(4, 4))\n",
        "    \n",
        "    # Load image\n",
        "    image = cv2.imread(str(image_path))\n",
        "    image = cv2.cvtColor(image, cv2.COLOR_BGR2RGB)\n",
        "    \n",
        "    ax.imshow(image)\n",
        "    ax.set_title(title, fontsize=10)\n",
        "    ax.axis('off')\n",
        "    \n",
        "    return image\n",
        "\n",
        "def query_similar_images(query_image_path, k=5, show_results=True):\n",
        "    \"\"\"Query similar images và hiển thị kết quả\"\"\"\n",
        "    print(f\"🔍 Querying for similar images to: {Path(query_image_path).name}\")\n",
        "    \n",
        "    # Load query image\n",
        "    query_image = cv2.imread(str(query_image_path))\n",
        "    if query_image is None:\n",
        "        print(\"❌ Cannot load query image!\")\n",
        "        return\n",
        "    \n",
        "    # Query similar images\n",
        "    results = best_cbir.query_similar_images(query_image, k=k)\n",
        "    \n",
        "    if not show_results:\n",
        "        return results\n",
        "    \n",
        "    # Display results\n",
        "    fig, axes = plt.subplots(2, 3, figsize=(15, 10))\n",
        "    \n",
        "    # Query image\n",
        "    query_img = load_and_display_image(query_image_path, \"🎯 Query Image\", axes[0, 0])\n",
        "    \n",
        "    # Extract query class info\n",
        "    query_path = Path(query_image_path)\n",
        "    if 'caltech-256' in str(query_path):\n",
        "        # Extract class from path format: .../256_ObjectCategories/XXX.class_name/image.jpg\n",
        "        parts = query_path.parts\n",
        "        for part in parts:\n",
        "            if '.' in part and not part.endswith('.jpg'):\n",
        "                query_class = part.split('.', 1)[1] if '.' in part else \"unknown\"\n",
        "                break\n",
        "        else:\n",
        "            query_class = \"unknown\"\n",
        "    else:\n",
        "        query_class = \"external\"\n",
        "    \n",
        "    axes[0, 0].set_title(f\"🎯 Query Image\\\\nClass: {query_class}\", fontsize=10)\n",
        "    \n",
        "    # Top-5 similar images\n",
        "    positions = [(0, 1), (0, 2), (1, 0), (1, 1), (1, 2)]\n",
        "    \n",
        "    print(f\"\\\\n📊 Top-{k} Similar Images:\")\n",
        "    print(\"-\" * 50)\n",
        "    \n",
        "    for i, (result, pos) in enumerate(zip(results, positions)):\n",
        "        idx = result.index\n",
        "        score = result.score\n",
        "        \n",
        "        # Get image info\n",
        "        img_path = image_paths[idx]\n",
        "        img_label = labels[idx]\n",
        "        img_class = class_names[img_label]\n",
        "        \n",
        "        # Display image\n",
        "        row, col = pos\n",
        "        load_and_display_image(img_path, f\"#{i+1} (Score: {score:.3f})\\\\n{img_class}\", axes[row, col])\n",
        "        \n",
        "        # Print info\n",
        "        match_emoji = \"✅\" if img_class == query_class else \"❌\"\n",
        "        print(f\"{match_emoji} #{i+1}: {img_class} (Score: {score:.3f})\")\n",
        "        print(f\"     Path: {Path(img_path).name}\")\n",
        "    \n",
        "    plt.tight_layout()\n",
        "    plt.show()\n",
        "    \n",
        "    return results\n"
      ]
    },
    {
      "cell_type": "raw",
      "metadata": {
        "vscode": {
          "languageId": "raw"
        }
      },
      "source": [
        "## 🎲 Random Query from Dataset\n"
      ]
    },
    {
      "cell_type": "code",
      "execution_count": null,
      "metadata": {},
      "outputs": [],
      "source": [
        "# Random query from test set\n",
        "test_dataset = data_module.test_dataset\n",
        "random_idx = np.random.randint(0, len(test_dataset))\n",
        "random_image_path = test_dataset.image_paths[random_idx]\n",
        "random_class = class_names[test_dataset.labels[random_idx]]\n",
        "\n",
        "print(f\"🎲 Random query from test set:\")\n",
        "print(f\"   Image: {Path(random_image_path).name}\")\n",
        "print(f\"   True class: {random_class}\")\n",
        "\n",
        "# Query\n",
        "results = query_similar_images(random_image_path, k=5)\n"
      ]
    },
    {
      "cell_type": "raw",
      "metadata": {
        "vscode": {
          "languageId": "raw"
        }
      },
      "source": [
        "## 🔧 Manual Query (Custom Class)\n"
      ]
    },
    {
      "cell_type": "code",
      "execution_count": null,
      "metadata": {},
      "outputs": [],
      "source": [
        "# List some interesting classes\n",
        "interesting_classes = ['car-side-101', 'faces-easy-101', 'airplanes-101', \n",
        "                      'motorbikes-101', 'sunflower-101', 'butterfly', \n",
        "                      'dolphin', 'elephant', 'guitar', 'piano']\n",
        "\n",
        "available_interesting = [cls for cls in interesting_classes if cls in class_names]\n",
        "print(f\"🎯 Available interesting classes to try:\")\n",
        "for i, cls in enumerate(available_interesting[:10]):\n",
        "    count = sum(1 for label in labels if class_names[label] == cls)\n",
        "    print(f\"   {i+1:2d}. {cls} ({count} images)\")\n",
        "\n",
        "# Query specific class\n",
        "target_class = \"car-side-101\"  # ⬅️ Thay đổi class này\n",
        "if target_class in class_names:\n",
        "    class_idx = class_names.index(target_class)\n",
        "    # Find first image of this class\n",
        "    class_images = [path for path, label in zip(image_paths, labels) if label == class_idx]\n",
        "    \n",
        "    if class_images:\n",
        "        print(f\"\\\\n🎯 Querying {target_class} (found {len(class_images)} images)\")\n",
        "        sample_image = class_images[0]\n",
        "        results = query_similar_images(sample_image, k=5)\n",
        "    else:\n",
        "        print(f\"❌ No {target_class} images found in indexed data\")\n",
        "else:\n",
        "    print(f\"❌ Class '{target_class}' not available\")\n",
        "    print(f\"Available: {available_interesting[:5]}...\")\n"
      ]
    },
    {
      "cell_type": "raw",
      "metadata": {
        "vscode": {
          "languageId": "raw"
        }
      },
      "source": [
        "## 📊 Model Performance Summary\n"
      ]
    },
    {
      "cell_type": "code",
      "execution_count": null,
      "metadata": {},
      "outputs": [],
      "source": [
        "print(\"📊 Best Color Model Summary:\")\n",
        "print(\"=\" * 40)\n",
        "print(f\"Configuration: {best_config['config_name']}\")\n",
        "print(f\"Feature Extractor: RGB Histogram\")\n",
        "print(f\"   - n_bin: {best_config['n_bin']} (total features: {best_config['n_bin']**3})\")\n",
        "print(f\"   - h_type: {best_config['h_type']}\")\n",
        "print(f\"Distance Metric: {best_config['metric']}\")\n",
        "print(f\"\\nPerformance:\")\n",
        "print(f\"   - Average mAP: {best_config['avg_mAP']:.4f}\")\n",
        "print(f\"   - mAP@1: {best_config['mAP@1']:.4f}\")\n",
        "print(f\"   - mAP@5: {best_config['mAP@5']:.4f}\")\n",
        "print(f\"   - mAP@10: {best_config['mAP@10']:.4f}\")\n",
        "print(f\"\\nDataset: Caltech-256\")\n",
        "print(f\"   - Indexed images: {len(best_cbir.feature_store.vectors)}\")\n",
        "print(f\"   - Classes: {len(class_names)}\")\n",
        "print(f\"   - Model size: {file_size:.2f} MB\")\n",
        "\n",
        "print(f\"\\n🎯 Usage Instructions:\")\n",
        "print(f\"1. Run random query cell để xem ví dụ\")\n",
        "print(f\"2. Thay đổi 'target_class' trong manual query cell\")\n",
        "print(f\"3. Các class thú vị: {', '.join(available_interesting[:5])}\")\n",
        "print(f\"4. Để query ảnh external, sửa đường dẫn trong custom query cell\")\n"
      ]
    }
  ],
  "metadata": {
    "language_info": {
      "name": "python"
    }
  },
  "nbformat": 4,
  "nbformat_minor": 2
}
