{
  "cells": [
    {
      "cell_type": "raw",
      "metadata": {
        "vscode": {
          "languageId": "raw"
        }
      },
      "source": [
        "# 🧪 Caltech-256 CBIR Testing Only\n",
        "\n",
        "Notebook này cho phép test model đã được indexing trước đó **mà không cần indexing lại**.\n",
        "\n",
        "## ⚠️ Lưu ý quan trọng\n",
        "- Model đã lưu sử dụng `n_bin=2, n_slice=3` (72 dims)\n",
        "- Cần đảm bảo feature extractor khi test cũng dùng **cùng parameters**\n"
      ]
    },
    {
      "cell_type": "code",
      "execution_count": null,
      "metadata": {},
      "outputs": [],
      "source": [
        "# 📦 Import Libraries & Setup\n",
        "import os\n",
        "import pickle\n",
        "import gzip\n",
        "import pandas as pd\n",
        "import numpy as np\n",
        "import torch\n",
        "from time import time\n",
        "from tqdm import tqdm\n",
        "\n",
        "from src.datasets.caltech256 import Caltech256DataModule\n",
        "from src.featuring.rgb_histogram import RGBHistogram\n",
        "from src.storage.VectorDBStore import VectorDBStore\n",
        "from src.retrieval.KNN import KNNRetrieval\n",
        "from src.pipeline import CBIR\n",
        "from src.metrics import average_precision, recall, hit_rate\n",
        "\n",
        "print(\"✅ Libraries imported successfully!\")\n",
        "\n",
        "# Setup paths\n",
        "project_root = os.path.dirname(os.path.abspath(\"\"))\n",
        "dataset_path = os.path.join(project_root, 'data', 'caltech-256')\n",
        "model_path = 'out/caltech256_model.pkl.gz'\n",
        "\n",
        "print(f\"📁 Dataset path: {dataset_path}\")\n",
        "print(f\"💾 Model path: {model_path}\")\n",
        "print(f\"📂 Model exists: {os.path.exists(model_path)}\")\n"
      ]
    }
  ],
  "metadata": {
    "language_info": {
      "name": "python"
    }
  },
  "nbformat": 4,
  "nbformat_minor": 2
}
